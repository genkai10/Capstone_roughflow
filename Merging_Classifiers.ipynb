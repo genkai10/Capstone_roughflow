{
  "cells": [
    {
      "cell_type": "code",
      "source": [
        "def merge_outputs(output_video, output_accelerometer, weight_video, weight_accelerometer, threshold):\n",
        "    merged_output = (weight_video * output_video) + (weight_accelerometer * output_accelerometer)\n",
        "    return merged_output >= threshold\n",
        "\n",
        "# Example values\n",
        "output_video = 0.8\n",
        "output_accelerometer = 0.6\n",
        "weight_video = 0.7\n",
        "weight_accelerometer = 0.3\n",
        "threshold = 0.5\n",
        "\n",
        "# Merge outputs\n",
        "merged_result = merge_outputs(output_video, output_accelerometer, weight_video, weight_accelerometer, threshold)\n",
        "\n",
        "if merged_result:\n",
        "    print(\"The action was classified as a fall.\")\n",
        "else:\n",
        "    print(\"The action was not classified as a fall.\")\n"
      ],
      "metadata": {
        "id": "taNaOBXMv0K8"
      },
      "execution_count": null,
      "outputs": []
    }
  ],
  "metadata": {
    "colab": {
      "name": "Welcome To Colaboratory",
      "toc_visible": true,
      "provenance": []
    },
    "kernelspec": {
      "display_name": "Python 3",
      "name": "python3"
    }
  },
  "nbformat": 4,
  "nbformat_minor": 0
}